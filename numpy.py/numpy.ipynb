{
 "cells": [
  {
   "cell_type": "code",
   "execution_count": 1,
   "metadata": {},
   "outputs": [
    {
     "name": "stdout",
     "output_type": "stream",
     "text": [
      "[40 40 80 70 40 60] [40 40 80 70 40 60]\n",
      "[ 20   0   0  30  20 -20] [ 20   0   0  30  20 -20]\n",
      "[ 300  400 1600 1000  300  800] [ 300  400 1600 1000  300  800]\n",
      "[3.  1.  1.  2.5 3.  0.5] [3.  1.  1.  2.5 3.  0.5]\n",
      "[ 27000   8000  64000 125000  27000   8000] [ 716276736          0          0 1443889152  716276736          0]\n",
      "[5.47722558 4.47213595 6.32455532 7.07106781 5.47722558 4.47213595] [5.47722558 4.47213595 6.32455532 7.07106781 5.47722558 4.47213595]\n"
     ]
    }
   ],
   "source": [
    "# mathametical operations and functions on arrays \n",
    "\n",
    "\n",
    "import  numpy as np \n",
    "\n",
    "a=np.array([30,20,40,50,30,20])\n",
    "b=np.array([10,20,40,20,10,40])\n",
    "c=np.array([3])\n",
    "\n",
    "print(a+b, np.add(a,b))\n",
    "print(a-b, np.subtract(a,b))\n",
    "print(a*b, np.multiply(a,b))\n",
    "print(a/b, np.divide(a,b))\n",
    "print(a**c, np.power(a,b))\n",
    "print(a**(1/2), np.sqrt(a))\n",
    "\n"
   ]
  },
  {
   "cell_type": "code",
   "execution_count": 2,
   "metadata": {},
   "outputs": [
    {
     "name": "stdout",
     "output_type": "stream",
     "text": [
      "<class 'numpy.ndarray'>\n",
      "[[1 2 3]\n",
      " [5 6 7]]\n",
      "[2 3 4]\n",
      "(2, 7)\n",
      "14\n",
      "2\n",
      "int32\n",
      "<class 'numpy.ndarray'>\n",
      "2\n",
      "[[1. 2. 3. 4. 5. 6. 7.]\n",
      " [5. 6. 7. 8. 9. 4. 3.]]\n",
      "[[1 2 3 4 5 6 7]\n",
      " [5 6 7 8 9 4 3]]\n"
     ]
    }
   ],
   "source": [
    "# numpy----> creating array,slicing and Attributes\n",
    "\n",
    "import numpy as np \n",
    "a=np.array([[1,2,3,4,5,6,7],[5,6,7,8,9,4,3]])\n",
    "print(type(a))\n",
    "\n",
    "\n",
    "# slicing\n",
    "print(a[0:4,0:3])  # because show equal number of row and columns \n",
    "print(a[0,1:4])\n",
    "\n",
    "#attribute of array\n",
    "print(np.shape(a))      #given details about array m  x  n\n",
    "print(np.size(a))       #number of element in array \n",
    "print(np.ndim(a))       #given dimension of array \n",
    "print(a.dtype)          #given data type of array\n",
    "print(type(a))\n",
    "print(len(a))           #give lenght of array\n",
    "print(a.astype(float))  #type conversion \n",
    "print(a.astype(int))"
   ]
  },
  {
   "cell_type": "code",
   "execution_count": 3,
   "metadata": {},
   "outputs": [
    {
     "name": "stdout",
     "output_type": "stream",
     "text": [
      "[1 2 3 4 5 6 3 5 6 7 8 9]\n",
      "[1 2 3 4 5 6 3 5 6 7 8 9]\n"
     ]
    }
   ],
   "source": [
    "#CONCATENATE Array(numpy)\n",
    "\n",
    "import numpy as np\n",
    "a=np.array([1,2,3,4,5,6])\n",
    "b=np.array([3,5,6,7,8,9])\n",
    "\n",
    "print(np.concatenate([a,b]))\n",
    "\n",
    "print(np.concatenate([a,b],axis=0))\n"
   ]
  },
  {
   "cell_type": "code",
   "execution_count": 4,
   "metadata": {},
   "outputs": [
    {
     "name": "stdout",
     "output_type": "stream",
     "text": [
      "[[1 2 3 3 5 6]\n",
      " [4 5 6 7 8 9]]\n",
      "[[1 2 3 3 5 6]\n",
      " [4 5 6 7 8 9]]\n",
      "[[1 2 3]\n",
      " [4 5 6]\n",
      " [3 5 6]\n",
      " [7 8 9]]\n",
      "[[1 2 3]\n",
      " [4 5 6]\n",
      " [3 5 6]\n",
      " [7 8 9]]\n"
     ]
    }
   ],
   "source": [
    "import numpy as np\n",
    "\n",
    "a=np.array([[1,2,3],[4,5,6]])\n",
    "b=np.array([[3,5,6],[7,8,9]])\n",
    "\n",
    "print(np.concatenate([a,b], axis=1))  # horizontal\n",
    "print(np.hstack([a,b]))\n",
    "print(np.concatenate([a,b],axis=0))   # vertical \n",
    "print(np.vstack([a,b]))\n"
   ]
  },
  {
   "cell_type": "code",
   "execution_count": 5,
   "metadata": {},
   "outputs": [
    {
     "name": "stdout",
     "output_type": "stream",
     "text": [
      "[ 1  2  3  4  5  6 90]\n",
      "[ 1  2  3  4  5  6 99 77]\n",
      "[1 6 2 3 4 5 6]\n",
      "[[ 1  2  3  4]\n",
      " [ 1  2 39  4]\n",
      " [ 1  2  3  4]]\n",
      "[[1 2 3 4]\n",
      " [1 2 3 4]]\n",
      "[1 2 3 4 5 6]\n",
      "[1 3 4 5 6]\n",
      "[[1 2 3 4]\n",
      " [1 2 3 4]]\n",
      "[[1 3 4]\n",
      " [1 3 4]]\n"
     ]
    }
   ],
   "source": [
    "#Adding and Removing Element in Array\n",
    "\n",
    "import numpy as np\n",
    "a=np.array([1,2,3,4,5,6])\n",
    "print(np.append(a,90))\n",
    "\n",
    "b=np.array([[1,2,3,4],[1,2,3,4]])\n",
    "print(np.append(a,[99,77]))\n",
    "\n",
    "print(np.insert(a,1,6))  # array , index , value \n",
    "print(np.insert(b,1,[1,2,39,4],axis=0))\n",
    "print(b)\n",
    "\n",
    "print(a)\n",
    "print(np.delete(a,1))\n",
    "\n",
    "print(b)\n",
    "print(np.delete(b,1,axis=1))\n",
    "\n",
    "\n",
    "\n",
    "\n"
   ]
  },
  {
   "cell_type": "code",
   "execution_count": 6,
   "metadata": {},
   "outputs": [
    {
     "name": "stdout",
     "output_type": "stream",
     "text": [
      "[2 2 4 4 4 5 5 5 6 6 7 7 8]\n",
      "(array([5, 7], dtype=int64),)\n",
      "(array([ 0,  1,  2,  4,  6,  9, 10, 12], dtype=int64),)\n",
      "5\n"
     ]
    }
   ],
   "source": [
    "# Short ilter and search \n",
    "\n",
    "import numpy as np \n",
    "\n",
    "a=np.array([4,2,6,5,4,7,8,7,5,2,4,5,6,])\n",
    "print(np.sort(a))\n",
    "print(np.where(a==7))\n",
    "#all evern number in array\n",
    "print(np.where(a%2==0))\n",
    "x=np.searchsorted(a,7)\n",
    "print(x)\n"
   ]
  },
  {
   "cell_type": "code",
   "execution_count": 7,
   "metadata": {},
   "outputs": [],
   "source": [
    "# AGGREGATING FUCTION IN ARRAY \n",
    "import numpy as np\n"
   ]
  },
  {
   "cell_type": "code",
   "execution_count": 8,
   "metadata": {},
   "outputs": [
    {
     "name": "stdout",
     "output_type": "stream",
     "text": [
      "add(x1, x2, /, out=None, *, where=True, casting='same_kind', order='K', dtype=None, subok=True[, signature, extobj])\n",
      "\n",
      "Add arguments element-wise.\n",
      "\n",
      "Parameters\n",
      "----------\n",
      "x1, x2 : array_like\n",
      "    The arrays to be added.\n",
      "    If ``x1.shape != x2.shape``, they must be broadcastable to a common\n",
      "    shape (which becomes the shape of the output).\n",
      "out : ndarray, None, or tuple of ndarray and None, optional\n",
      "    A location into which the result is stored. If provided, it must have\n",
      "    a shape that the inputs broadcast to. If not provided or None,\n",
      "    a freshly-allocated array is returned. A tuple (possible only as a\n",
      "    keyword argument) must have length equal to the number of outputs.\n",
      "where : array_like, optional\n",
      "    This condition is broadcast over the input. At locations where the\n",
      "    condition is True, the `out` array will be set to the ufunc result.\n",
      "    Elsewhere, the `out` array will retain its original value.\n",
      "    Note that if an uninitialized `out` array is created via the default\n",
      "    ``out=None``, locations within it where the condition is False will\n",
      "    remain uninitialized.\n",
      "**kwargs\n",
      "    For other keyword-only arguments, see the\n",
      "    :ref:`ufunc docs <ufuncs.kwargs>`.\n",
      "\n",
      "Returns\n",
      "-------\n",
      "add : ndarray or scalar\n",
      "    The sum of `x1` and `x2`, element-wise.\n",
      "    This is a scalar if both `x1` and `x2` are scalars.\n",
      "\n",
      "Notes\n",
      "-----\n",
      "Equivalent to `x1` + `x2` in terms of array broadcasting.\n",
      "\n",
      "Examples\n",
      "--------\n",
      ">>> np.add(1.0, 4.0)\n",
      "5.0\n",
      ">>> x1 = np.arange(9.0).reshape((3, 3))\n",
      ">>> x2 = np.arange(3.0)\n",
      ">>> np.add(x1, x2)\n",
      "array([[  0.,   2.,   4.],\n",
      "       [  3.,   5.,   7.],\n",
      "       [  6.,   8.,  10.]])\n",
      "\n",
      "The ``+`` operator can be used as a shorthand for ``np.add`` on ndarrays.\n",
      "\n",
      ">>> x1 = np.arange(9.0).reshape((3, 3))\n",
      ">>> x2 = np.arange(3.0)\n",
      ">>> x1 + x2\n",
      "array([[ 0.,  2.,  4.],\n",
      "       [ 3.,  5.,  7.],\n",
      "       [ 6.,  8., 10.]])\n",
      "None\n"
     ]
    }
   ],
   "source": [
    "# Questions numpy.1\n",
    " #Importing the NumPy library with an alias 'np'\n",
    "import numpy as np\n",
    "\n",
    "# Printing information about the np.add function using the np.info() method\n",
    "print(np.info(np.add))"
   ]
  },
  {
   "cell_type": "code",
   "execution_count": 9,
   "metadata": {},
   "outputs": [
    {
     "name": "stdout",
     "output_type": "stream",
     "text": [
      "1.26.4\n",
      "{\n",
      "  \"Compilers\": {\n",
      "    \"c\": {\n",
      "      \"name\": \"msvc\",\n",
      "      \"linker\": \"link\",\n",
      "      \"version\": \"19.29.30153\",\n",
      "      \"commands\": \"cl\"\n",
      "    },\n",
      "    \"cython\": {\n",
      "      \"name\": \"cython\",\n",
      "      \"linker\": \"cython\",\n",
      "      \"version\": \"3.0.8\",\n",
      "      \"commands\": \"cython\"\n",
      "    },\n",
      "    \"c++\": {\n",
      "      \"name\": \"msvc\",\n",
      "      \"linker\": \"link\",\n",
      "      \"version\": \"19.29.30153\",\n",
      "      \"commands\": \"cl\"\n",
      "    }\n",
      "  },\n",
      "  \"Machine Information\": {\n",
      "    \"host\": {\n",
      "      \"cpu\": \"x86_64\",\n",
      "      \"family\": \"x86_64\",\n",
      "      \"endian\": \"little\",\n",
      "      \"system\": \"windows\"\n",
      "    },\n",
      "    \"build\": {\n",
      "      \"cpu\": \"x86_64\",\n",
      "      \"family\": \"x86_64\",\n",
      "      \"endian\": \"little\",\n",
      "      \"system\": \"windows\"\n",
      "    }\n",
      "  },\n",
      "  \"Build Dependencies\": {\n",
      "    \"blas\": {\n",
      "      \"name\": \"openblas64\",\n",
      "      \"found\": true,\n",
      "      \"version\": \"0.3.23.dev\",\n",
      "      \"detection method\": \"pkgconfig\",\n",
      "      \"include directory\": \"/c/opt/64/include\",\n",
      "      \"lib directory\": \"/c/opt/64/lib\",\n",
      "      \"openblas configuration\": \"USE_64BITINT=1 DYNAMIC_ARCH=1 DYNAMIC_OLDER= NO_CBLAS= NO_LAPACK= NO_LAPACKE= NO_AFFINITY=1 USE_OPENMP= SKYLAKEX MAX_THREADS=2\",\n",
      "      \"pc file directory\": \"C:/opt/64/lib/pkgconfig\"\n",
      "    },\n",
      "    \"lapack\": {\n",
      "      \"name\": \"dep3179274605568\",\n",
      "      \"found\": true,\n",
      "      \"version\": \"1.26.4\",\n",
      "      \"detection method\": \"internal\",\n",
      "      \"include directory\": \"unknown\",\n",
      "      \"lib directory\": \"unknown\",\n",
      "      \"openblas configuration\": \"unknown\",\n",
      "      \"pc file directory\": \"unknown\"\n",
      "    }\n",
      "  },\n",
      "  \"Python Information\": {\n",
      "    \"path\": \"C:\\\\Users\\\\runneradmin\\\\AppData\\\\Local\\\\Temp\\\\cibw-run-g7slqwov\\\\cp312-win_amd64\\\\build\\\\venv\\\\Scripts\\\\python.exe\",\n",
      "    \"version\": \"3.12\"\n",
      "  },\n",
      "  \"SIMD Extensions\": {\n",
      "    \"baseline\": [\n",
      "      \"SSE\",\n",
      "      \"SSE2\",\n",
      "      \"SSE3\"\n",
      "    ],\n",
      "    \"found\": [\n",
      "      \"SSSE3\",\n",
      "      \"SSE41\",\n",
      "      \"POPCNT\",\n",
      "      \"SSE42\",\n",
      "      \"AVX\",\n",
      "      \"F16C\",\n",
      "      \"FMA3\",\n",
      "      \"AVX2\",\n",
      "      \"AVX512F\",\n",
      "      \"AVX512CD\",\n",
      "      \"AVX512_SKX\",\n",
      "      \"AVX512_CLX\",\n",
      "      \"AVX512_CNL\",\n",
      "      \"AVX512_ICL\"\n",
      "    ]\n",
      "  }\n",
      "}\n",
      "None\n"
     ]
    },
    {
     "name": "stderr",
     "output_type": "stream",
     "text": [
      "c:\\Users\\akash\\AppData\\Local\\Programs\\Python\\Python312\\Lib\\site-packages\\numpy\\__config__.py:155: UserWarning: Install `pyyaml` for better output\n",
      "  warnings.warn(\"Install `pyyaml` for better output\", stacklevel=1)\n"
     ]
    }
   ],
   "source": [
    "# Questions mumpy.2\n",
    "\n",
    "# Importing the NumPy library with an alias 'np'\n",
    "import numpy as np\n",
    "\n",
    "# Printing the version of NumPy installed\n",
    "print(np.__version__)\n",
    "\n",
    "# Printing the configuration details of NumPy\n",
    "print(np.show_config())"
   ]
  },
  {
   "cell_type": "code",
   "execution_count": 10,
   "metadata": {},
   "outputs": [
    {
     "name": "stdout",
     "output_type": "stream",
     "text": [
      "Original array:\n",
      "[1 2 3 4]\n",
      "Test if none of the elements of the said array is zero:\n",
      "True\n",
      "Original array:\n",
      "[0 1 2 3]\n",
      "Test if none of the elements of the said array is zero:\n",
      "False\n"
     ]
    }
   ],
   "source": [
    "# Questions numpy .3\n",
    "\n",
    "# Importing the NumPy library with an alias 'np'\n",
    "import numpy as np\n",
    "\n",
    "# Creating a NumPy array 'x' containing elements 1, 2, 3, and 4\n",
    "x = np.array([1, 2, 3, 4])\n",
    "\n",
    "# Printing the original array 'x'\n",
    "print(\"Original array:\")\n",
    "print(x)\n",
    "\n",
    "# Checking if none of the elements in the array 'x' is zero and printing the result\n",
    "print(\"Test if none of the elements of the said array is zero:\")\n",
    "print(np.all(x))\n",
    "\n",
    "# Reassigning array 'x' to a new array containing elements 0, 1, 2, and 3\n",
    "x = np.array([0, 1, 2, 3])\n",
    "\n",
    "# Printing the new array 'x'\n",
    "print(\"Original array:\")\n",
    "print(x)\n",
    "\n",
    "# Checking if none of the elements in the updated array 'x' is zero and printing the result\n",
    "print(\"Test if none of the elements of the said array is zero:\")\n",
    "print(np.all(x))"
   ]
  },
  {
   "cell_type": "code",
   "execution_count": 11,
   "metadata": {},
   "outputs": [
    {
     "name": "stdout",
     "output_type": "stream",
     "text": [
      "Original array:\n",
      "[1 2 3 4]\n",
      "Test if none of the elements of the said array is zero:\n",
      "True\n",
      "Original array:\n",
      "[0 1 2 3]\n",
      "Test if none of the elements of the said array is zero:\n",
      "False\n"
     ]
    }
   ],
   "source": [
    "# Questions mumpy .4\n",
    "\n",
    "# Write a NumPy program to test whether none of the elements of a given array are zero. \n",
    "\n",
    "# Importing the NumPy library with an alias 'np'\n",
    "import numpy as np\n",
    "\n",
    "# Creating a NumPy array 'x' containing elements 1, 2, 3, and 4\n",
    "x = np.array([1, 2, 3, 4])\n",
    "\n",
    "# Printing the original array 'x'\n",
    "print(\"Original array:\")\n",
    "print(x)\n",
    "\n",
    "# Checking if none of the elements in the array 'x' is zero and printing the result\n",
    "print(\"Test if none of the elements of the said array is zero:\")\n",
    "print(np.all(x))\n",
    "\n",
    "# Reassigning array 'x' to a new array containing elements 0, 1, 2, and 3\n",
    "x = np.array([0, 1, 2, 3])\n",
    "\n",
    "# Printing the new array 'x'\n",
    "print(\"Original array:\")\n",
    "print(x)\n",
    "\n",
    "# Checking if none of the elements in the updated array 'x' is zero and printing the result\n",
    "print(\"Test if none of the elements of the said array is zero:\")\n",
    "print(np.all(x))"
   ]
  },
  {
   "cell_type": "code",
   "execution_count": 13,
   "metadata": {},
   "outputs": [
    {
     "name": "stdout",
     "output_type": "stream",
     "text": [
      "Original array\n",
      "[ 1.  0. nan inf]\n",
      "Test a given array element-wise for finiteness :\n",
      "[ True  True False False]\n"
     ]
    }
   ],
   "source": [
    "# Questions mumpy .5\n",
    "# Write a NumPy program to test a given array element-wise for finiteness (not infinity or not a number)\n",
    "\n",
    "# Importing the NumPy library with an alias 'np'\n",
    "import numpy as np\n",
    "\n",
    "# Creating a NumPy array 'a' containing elements 1, 0, NaN (Not a Number), and infinity\n",
    "a = np.array([1, 0, np.nan, np.inf])\n",
    "\n",
    "# Printing the original array 'a'\n",
    "print(\"Original array\")\n",
    "print(a)\n",
    "\n",
    "# Checking the given array 'a' element-wise for finiteness and printing the result\n",
    "print(\"Test a given array element-wise for finiteness :\")\n",
    "print(np.isfinite(a)) "
   ]
  },
  {
   "cell_type": "code",
   "execution_count": 15,
   "metadata": {},
   "outputs": [
    {
     "name": "stdout",
     "output_type": "stream",
     "text": [
      "Original array\n",
      "[ 1.  0. nan inf]\n",
      "Test element-wise for positive or negative infinity:\n",
      "[False False False  True]\n"
     ]
    }
   ],
   "source": [
    "# Questions mumpy .6\n",
    "# Write a NumPy program to test elements-wise for positive or negative infinity .\n",
    "\n",
    "# Importing the NumPy library with an alias 'np'\n",
    "import numpy as np\n",
    "\n",
    "# Creating a NumPy array 'a' containing elements 1, 0, NaN (Not a Number), and infinity\n",
    "a = np.array([1, 0, np.nan, np.inf])\n",
    "\n",
    "# Printing the original array 'a'\n",
    "print(\"Original array\")\n",
    "print(a)\n",
    "\n",
    "# Testing the given array 'a' element-wise for positive or negative infinity and printing the result\n",
    "print(\"Test element-wise for positive or negative infinity:\")\n",
    "print(np.isinf(a)) \n",
    "     \n",
    "\n"
   ]
  },
  {
   "cell_type": "code",
   "execution_count": 12,
   "metadata": {},
   "outputs": [
    {
     "name": "stdout",
     "output_type": "stream",
     "text": [
      "Matrix A:\n",
      " [[1 2]\n",
      " [3 4]]\n",
      "\n",
      "Matrix B:\n",
      " [[5 6]\n",
      " [7 8]]\n",
      "\n",
      "\n",
      "Addition of Matrix A and Matrix B:\n",
      "[[ 6  8]\n",
      " [10 12]]\n",
      "\n",
      "\n",
      "Subtraction of Matrix B from Matrix A:\n",
      "[[-4 -4]\n",
      " [-4 -4]]\n",
      "\n",
      "\n",
      "Dot Product       of Matrix A and Matrix B:\n",
      "-------------------------\n",
      "[[19 22]\n",
      " [43 50]]\n",
      "\n",
      "\n",
      "MatMul Function   of Matrix A and Matrix B:  \n",
      "-------------------------\n",
      "[[19 22]\n",
      " [43 50]]\n",
      "\n",
      "\n",
      "@ Operator        of Matrix A and Matrix B:  \n",
      "[[19 22]\n",
      " [43 50]]\n",
      "\n",
      "All methods give the same result.\n"
     ]
    }
   ],
   "source": [
    "import numpy as np\n",
    "\n",
    "a=np.array  ([[1,2],[3,4]])\n",
    "b=np.array([[5,6], [7,8]])\n",
    "print(\"Matrix A:\\n\", a)\n",
    "print(\"\\nMatrix B:\\n\", b    )\n",
    "\n",
    "#Adding two matrices\n",
    "c = a + b   \n",
    "print(\"\\n\\nAddition of Matrix A and Matrix B:\")    \n",
    "print(c)      \n",
    "\n",
    "#Subtracting matrix B from Matrix A\n",
    "d = a - b    \n",
    "print(\"\\n\\nSubtraction of Matrix B from Matrix A:\")    \n",
    "print(d)      \n",
    "\n",
    "#Multiplying Matrices\n",
    "e = np.dot(a , b)   #Standard dot product\n",
    "f = np.matmul(a , b) #Matrix multiplication\n",
    "g = a @ b          #Matrix multiplication using @ operator\n",
    "\n",
    "print('\\n\\nDot Product       of Matrix A and Matrix B:')          \n",
    "print('-------------------------')                                                      \n",
    "print(e)                                                       \n",
    "\n",
    "print('\\n\\nMatMul Function   of Matrix A and Matrix B:  ')                   \n",
    "print('-------------------------')                                                                                     \n",
    "print(f)                                                                        \n",
    "\n",
    "print('\\n\\n@ Operator        of Matrix A and Matrix B:  ')                                          \n",
    "print(g)                                                                                                                           \n",
    "\n",
    "#Checking if the results are same or not\n",
    "if e.all() == f.all()== g.all():\n",
    "    print(\"\\nAll methods give the same result.\")    \n",
    "else:\n",
    "    print(\"\\nSome methods don't give the same result.\")          \n",
    "\n",
    "#Finding transpose of Matrix"
   ]
  },
  {
   "cell_type": "code",
   "execution_count": null,
   "metadata": {},
   "outputs": [],
   "source": []
  }
 ],
 "metadata": {
  "kernelspec": {
   "display_name": "Python 3",
   "language": "python",
   "name": "python3"
  },
  "language_info": {
   "codemirror_mode": {
    "name": "ipython",
    "version": 3
   },
   "file_extension": ".py",
   "mimetype": "text/x-python",
   "name": "python",
   "nbconvert_exporter": "python",
   "pygments_lexer": "ipython3",
   "version": "3.12.2"
  }
 },
 "nbformat": 4,
 "nbformat_minor": 2
}
