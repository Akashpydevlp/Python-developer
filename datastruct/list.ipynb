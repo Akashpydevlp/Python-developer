{
 "cells": [
  {
   "cell_type": "code",
   "execution_count": 14,
   "metadata": {},
   "outputs": [
    {
     "name": "stdout",
     "output_type": "stream",
     "text": [
      "[1, 2, 3, 'GFG', 2.3]\n"
     ]
    }
   ],
   "source": [
    "List = [1, 2, 3, \"GFG\", 2.3] \n",
    "print(List)"
   ]
  },
  {
   "cell_type": "code",
   "execution_count": 15,
   "metadata": {},
   "outputs": [
    {
     "name": "stdout",
     "output_type": "stream",
     "text": [
      "\n",
      "List containing multiple values: \n",
      "['Geeks', 'For', 'Geeks']\n",
      "\n",
      "Multi-Dimensional List: \n",
      "[['Geeks', 'For'], ['Geeks']]\n",
      "Accessing element from the list\n",
      "Geeks\n",
      "Geeks\n",
      "Accessing element using negative indexing\n",
      "Geeks\n",
      "Geeks\n"
     ]
    }
   ],
   "source": [
    "# Creating a List with \n",
    "# the use of multiple values \n",
    "List = [\"Geeks\", \"For\", \"Geeks\"] \n",
    "print(\"\\nList containing multiple values: \") \n",
    "print(List) \n",
    "  \n",
    "# Creating a Multi-Dimensional List \n",
    "# (By Nesting a list inside a List) \n",
    "List2 = [['Geeks', 'For'], ['Geeks']] \n",
    "print(\"\\nMulti-Dimensional List: \") \n",
    "print(List2) \n",
    "  \n",
    "# accessing a element from the \n",
    "# list using index number \n",
    "print(\"Accessing element from the list\") \n",
    "print(List[0]) \n",
    "print(List[2]) \n",
    "  \n",
    "# accessing a element using \n",
    "# negative indexing \n",
    "print(\"Accessing element using negative indexing\") \n",
    "# print the last element of list \n",
    "print(List[-1]) \n",
    "      \n",
    "# print the third last element of list \n",
    "print(List[-3]) "
   ]
  },
  {
   "cell_type": "code",
   "execution_count": 16,
   "metadata": {},
   "outputs": [
    {
     "name": "stdout",
     "output_type": "stream",
     "text": [
      "[1, 3, 5, 7, 9]\n"
     ]
    }
   ],
   "source": [
    "# sort\n",
    "# max\n",
    "# min\n",
    "# index\n",
    "# insert\n",
    "# del\n",
    "# remove\n",
    "\n",
    "\n",
    "# 1 Sort\n",
    "\n",
    "numbers = [5, 1, 9, 3, 7]\n",
    "numbers.sort()\n",
    "print(numbers)  # Output: [1, 3, 5, 7, 9]"
   ]
  },
  {
   "cell_type": "code",
   "execution_count": 17,
   "metadata": {},
   "outputs": [
    {
     "name": "stdout",
     "output_type": "stream",
     "text": [
      "9\n"
     ]
    }
   ],
   "source": [
    "# 2 Max\n",
    "\n",
    "numbers = [5, 1, 9, 3, 7]\n",
    "max_number = max(numbers)\n",
    "print(max_number)  # Output: 9"
   ]
  },
  {
   "cell_type": "code",
   "execution_count": 9,
   "metadata": {},
   "outputs": [
    {
     "name": "stdout",
     "output_type": "stream",
     "text": [
      "1\n"
     ]
    }
   ],
   "source": [
    "# 3 min \n",
    "numbers = [5, 1, 9, 3, 7]\n",
    "min_number = min(numbers)\n",
    "print(min_number)  # Output: 9"
   ]
  },
  {
   "cell_type": "code",
   "execution_count": 23,
   "metadata": {},
   "outputs": [
    {
     "name": "stdout",
     "output_type": "stream",
     "text": [
      "4\n"
     ]
    }
   ],
   "source": [
    "# 4 index\n",
    "\n",
    "numbers = [5, 1, 9, 3, 7]\n",
    "index = numbers.index(9)\n",
    "print(index)  # Output: 2\n",
    "\n",
    "\n",
    "# text = 'Hello, world!'\n",
    "# index = text.index('world')\n",
    "# print(index)  "
   ]
  },
  {
   "cell_type": "code",
   "execution_count": 24,
   "metadata": {},
   "outputs": [
    {
     "name": "stdout",
     "output_type": "stream",
     "text": [
      "[5, 1, 6, 9, 3, 7]\n"
     ]
    }
   ],
   "source": [
    "#  5 insert\n",
    "\n",
    "numbers = [5, 1, 9, 3, 7]\n",
    "numbers.insert(2, 6)\n",
    "print(numbers)  # Output: [5, 1, 6, 9, 3, 7]"
   ]
  },
  {
   "cell_type": "code",
   "execution_count": 25,
   "metadata": {},
   "outputs": [
    {
     "name": "stdout",
     "output_type": "stream",
     "text": [
      "[5, 1, 3, 7]\n"
     ]
    }
   ],
   "source": [
    "# 6 del\n",
    "\n",
    "numbers = [5, 1, 9, 3, 7]\n",
    "del numbers[2]\n",
    "print(numbers)  # Output: [5, 1, 3, 7]"
   ]
  },
  {
   "cell_type": "code",
   "execution_count": 26,
   "metadata": {},
   "outputs": [
    {
     "name": "stdout",
     "output_type": "stream",
     "text": [
      "[5, 1, 3, 7]\n"
     ]
    }
   ],
   "source": [
    "# <!-- 7 Remove -->\n",
    "\n",
    "numbers = [5, 1, 9, 3, 7]\n",
    "numbers.remove(9)\n",
    "print(numbers)  # Output: [5, 1, 3, 7]"
   ]
  },
  {
   "cell_type": "code",
   "execution_count": 1,
   "metadata": {},
   "outputs": [
    {
     "name": "stdout",
     "output_type": "stream",
     "text": [
      "Initial empty Tuple: \n",
      "()\n",
      "\n",
      "Tuple with the use of String: \n",
      "('Geeks', 'For')\n",
      "\n",
      "Tuple using List: \n",
      "(1, 2, 4, 5, 6)\n",
      "\n",
      "Tuple with the use of function: \n",
      "('G', 'e', 'e', 'k', 's')\n"
     ]
    }
   ],
   "source": [
    "# Creating an empty Tuple\n",
    "Tuple1 = ()\n",
    "print(\"Initial empty Tuple: \")\n",
    "print(Tuple1)\n",
    "\n",
    "# Creating a Tuple\n",
    "# with the use of string\n",
    "Tuple1 = ('Geeks', 'For')\n",
    "print(\"\\nTuple with the use of String: \")\n",
    "print(Tuple1)\n",
    "\n",
    "# Creating a Tuple with\n",
    "# the use of list\n",
    "list1 = [1, 2, 4, 5, 6]\n",
    "print(\"\\nTuple using List: \")\n",
    "print(tuple(list1))\n",
    "\n",
    "# Creating a Tuple\n",
    "# with the use of built-in function\n",
    "Tuple1 = tuple('Geeks')\n",
    "print(\"\\nTuple with the use of function: \")\n",
    "print(Tuple1)\n",
    "\n",
    "# sort\n",
    "# max\n",
    "# min\n",
    "# index\n",
    "# insert\n",
    "# del\n",
    "# remove\n"
   ]
  },
  {
   "cell_type": "code",
   "execution_count": 1,
   "metadata": {},
   "outputs": [
    {
     "name": "stdout",
     "output_type": "stream",
     "text": [
      "[('Dave', 20), ('Jane', 30), ('John', 25)]\n"
     ]
    }
   ],
   "source": [
    "# sort \n",
    "\n",
    "people = [('John', 25), ('Jane', 30), ('Dave', 20)]\n",
    "sorted_people = sorted(people)\n",
    "print(sorted_people)  # Output: [('Dave', 20), ('John', 25), ('Jane', 30)]v\n"
   ]
  },
  {
   "cell_type": "code",
   "execution_count": 2,
   "metadata": {},
   "outputs": [
    {
     "name": "stdout",
     "output_type": "stream",
     "text": [
      "('Jane', 30)\n"
     ]
    }
   ],
   "source": [
    "# max \n",
    "\n",
    "\n",
    "people = [('John', 25), ('Jane', 30), ('Dave', 20)]\n",
    "max_age = max(people, key=lambda x: x[1])\n",
    "print(max_age)  # Output: ('Jane', 30)\n"
   ]
  },
  {
   "cell_type": "code",
   "execution_count": 3,
   "metadata": {},
   "outputs": [
    {
     "name": "stdout",
     "output_type": "stream",
     "text": [
      "('John', 'Doe', 25)\n"
     ]
    }
   ],
   "source": [
    "# min \n",
    "\n",
    "people = [('John', 'Doe', 25), ('Jane', 'Smith', 30), ('Dave', 'Johnson', 20)]\n",
    "min_age = min(people, key=lambda x: (x[1], x[2]))\n",
    "print(min_age)  # Output: ('Dave', 'Johnson', 20)"
   ]
  },
  {
   "cell_type": "code",
   "execution_count": 4,
   "metadata": {},
   "outputs": [
    {
     "name": "stdout",
     "output_type": "stream",
     "text": [
      "1\n"
     ]
    }
   ],
   "source": [
    "# index\n",
    "\n",
    "people = [('John', 'Doe', 25), ('Jane', 'Smith', 30), ('Dave', 'Johnson', 20)]\n",
    "index = people.index(('Jane', 'Smith', 30))\n",
    "print(index)  # Output: 1"
   ]
  },
  {
   "cell_type": "code",
   "execution_count": 5,
   "metadata": {},
   "outputs": [
    {
     "name": "stdout",
     "output_type": "stream",
     "text": [
      "[('John', 25), ('Alice', 22), ('Jane', 30), ('Dave', 20)]\n"
     ]
    }
   ],
   "source": [
    "# insert\n",
    "\n",
    "people = [('John', 25), ('Jane', 30), ('Dave', 20)]\n",
    "people.insert(1, ('Alice', 22))\n",
    "print(people)  # Output: [('John', 25), ('Alice', 22), ('Jane', 30), ('Dave', 20)]"
   ]
  },
  {
   "cell_type": "code",
   "execution_count": 19,
   "metadata": {},
   "outputs": [
    {
     "name": "stdout",
     "output_type": "stream",
     "text": [
      "[('John', 25), ('Dave', 20)]\n"
     ]
    }
   ],
   "source": [
    "# del\n",
    "\n",
    "people = [('John', 25), ('Jane', 30), ('Dave', 20)]\n",
    "del people[1]\n",
    "print(people)  # Output: [('John', 25), ('Dave', 20)]"
   ]
  },
  {
   "cell_type": "code",
   "execution_count": 8,
   "metadata": {},
   "outputs": [
    {
     "name": "stdout",
     "output_type": "stream",
     "text": [
      "[('John', 25), ('Dave', 20)]\n"
     ]
    }
   ],
   "source": [
    "# remove\n",
    "\n",
    "people = [('John', 25), ('Jane', 30), ('Dave', 20)]\n",
    "people.remove(('Jane', 30))\n",
    "print(people)  # Output: [('John', 25), ('Dave', 20)]"
   ]
  },
  {
   "cell_type": "code",
   "execution_count": null,
   "metadata": {},
   "outputs": [],
   "source": [
    "# sort\n",
    "# max\n",
    "# min\n",
    "# index\n",
    "# insert\n",
    "# del\n",
    "# remove\n",
    "\n",
    "\n"
   ]
  },
  {
   "cell_type": "code",
   "execution_count": 1,
   "metadata": {},
   "outputs": [
    {
     "name": "stdout",
     "output_type": "stream",
     "text": [
      "[{1, 2, 3}, {4, 5, 6}, {8, 9, 7}]\n"
     ]
    }
   ],
   "source": [
    "# sort\n",
    "\n",
    "\n",
    "sets = [{1, 2, 3}, {4, 5, 6}, {7, 8, 9}]\n",
    "sorted_sets = sorted(sets)\n",
    "print(sorted_sets)  # Output: [{1, 2, 3}, {4, 5, 6}, {7, 8, 9}]"
   ]
  },
  {
   "cell_type": "code",
   "execution_count": 2,
   "metadata": {},
   "outputs": [
    {
     "name": "stdout",
     "output_type": "stream",
     "text": [
      "9\n"
     ]
    }
   ],
   "source": [
    "# max\n",
    "\n",
    "numbers = {5, 1, 9, 3, 7}\n",
    "max_number = max(numbers)\n",
    "print(max_number)  # Output: 9"
   ]
  },
  {
   "cell_type": "code",
   "execution_count": 3,
   "metadata": {},
   "outputs": [
    {
     "name": "stdout",
     "output_type": "stream",
     "text": [
      "1\n"
     ]
    }
   ],
   "source": [
    "# min \n",
    "\n",
    "numbers = {5, 1, 9, 3, 7}\n",
    "min_number = min(numbers)\n",
    "print(min_number)  "
   ]
  }
 ],
 "metadata": {
  "kernelspec": {
   "display_name": "Python 3",
   "language": "python",
   "name": "python3"
  },
  "language_info": {
   "codemirror_mode": {
    "name": "ipython",
    "version": 3
   },
   "file_extension": ".py",
   "mimetype": "text/x-python",
   "name": "python",
   "nbconvert_exporter": "python",
   "pygments_lexer": "ipython3",
   "version": "3.12.2"
  }
 },
 "nbformat": 4,
 "nbformat_minor": 2
}
